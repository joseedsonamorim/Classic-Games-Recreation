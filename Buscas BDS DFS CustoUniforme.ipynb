{
  "nbformat": 4,
  "nbformat_minor": 0,
  "metadata": {
    "colab": {
      "provenance": [],
      "include_colab_link": true
    },
    "kernelspec": {
      "name": "python3",
      "display_name": "Python 3"
    }
  },
  "cells": [
    {
      "cell_type": "markdown",
      "metadata": {
        "id": "view-in-github",
        "colab_type": "text"
      },
      "source": [
        "<a href=\"https://colab.research.google.com/github/joseedsonamorim/Classic-Games-Recreation/blob/master/Buscas%20BDS%20DFS%20CustoUniforme.ipynb\" target=\"_parent\"><img src=\"https://colab.research.google.com/assets/colab-badge.svg\" alt=\"Open In Colab\"/></a>"
      ]
    },
    {
      "cell_type": "markdown",
      "metadata": {
        "id": "MhgyHD_Je5M6"
      },
      "source": [
        "# Busca Não Informada\n",
        "\n",
        "Neste notebook, exploraremos alguns algoritmos clássicos de busca cega (i.e., não informada, sem informação, etc.).\n",
        "\n",
        "Considere o grafo abaixo:\n",
        "\n",
        "![img1](https://github.com/ufrpe-ia/intro-ia/blob/master/assets/images/img_buscas_01.png?raw=true)\n",
        "\n",
        "\n",
        "## Classe Graph\n",
        "\n",
        "Utilizaremos como base uma implementação de um grafo simples em python:\n"
      ]
    },
    {
      "cell_type": "code",
      "metadata": {
        "id": "pSq_buSzwq83"
      },
      "source": [
        "from collections import defaultdict\n",
        "from pprint import pprint\n",
        "\n",
        "class Graph():\n",
        "  def __init__(self):\n",
        "    self.neighbors = defaultdict(list)\n",
        "    self.cost = defaultdict(list)\n",
        "\n",
        "  def show_graph(self):\n",
        "    print(\"Destinations:\");\n",
        "    pprint(dict(self.neighbors))\n",
        "\n",
        "    print(\"Costs:\");\n",
        "    pprint(dict(self.cost))\n",
        "\n",
        "  def add_edge(self, source, destination, price):\n",
        "    self.neighbors[source].append(destination)\n",
        "    self.cost[source].append(price)"
      ],
      "execution_count": null,
      "outputs": []
    },
    {
      "cell_type": "markdown",
      "metadata": {
        "id": "dt9tBN4jcDby"
      },
      "source": [
        "## Algoritmo 1: Busca em largura (BFS)"
      ]
    },
    {
      "cell_type": "code",
      "metadata": {
        "id": "AspEpUIxMpHg"
      },
      "source": [
        "from collections import defaultdict\n",
        "from pprint import pprint\n",
        "\n",
        "class GraphBFS(Graph):\n",
        "\n",
        "  def bfs(self, start='S', end = 'G'):\n",
        "\n",
        "    visited = []\n",
        "    fringe = [(start,0,start)] # (node, cost-to-node, path-to-node)\n",
        "\n",
        "    while len(fringe) > 0:\n",
        "\n",
        "      node = fringe[0]\n",
        "\n",
        "      fringe.remove(node)\n",
        "      visited.append(node[0])\n",
        "\n",
        "      ################\n",
        "      # inserir elementos na fronteira sem ordem\n",
        "      for n,c in zip(self.neighbors[node[0]], self.cost[node[0]]):\n",
        "        if n not in visited:\n",
        "          fringe.append((n,c+node[1],node[2]+n))\n",
        "      ################\n",
        "\n",
        "      print('visited:' , node[0], '(', node[2], ') | fringe:', fringe)\n",
        "      if node[0] == end:\n",
        "        print('FIM: ', node[2], ' Cost:', node[1])\n",
        "        break"
      ],
      "execution_count": null,
      "outputs": []
    },
    {
      "cell_type": "markdown",
      "metadata": {
        "id": "IfbQZzuvXmsD"
      },
      "source": [
        "Adicionando os elementos ao grafo:\n"
      ]
    },
    {
      "cell_type": "code",
      "metadata": {
        "id": "NWf3Pab1wr7y"
      },
      "source": [
        "g = GraphBFS()\n",
        "\n",
        "g.add_edge('S', 'A', 2)\n",
        "g.add_edge('S', 'B', 1)\n",
        "g.add_edge('S', 'G', 9)\n",
        "g.add_edge('A', 'C', 2)\n",
        "g.add_edge('A', 'D', 3)\n",
        "g.add_edge('B', 'D', 2)\n",
        "g.add_edge('B', 'E', 4)\n",
        "g.add_edge('C', 'G', 4)\n",
        "g.add_edge('D', 'G', 4)\n",
        "\n",
        "g.show_graph()"
      ],
      "execution_count": null,
      "outputs": []
    },
    {
      "cell_type": "code",
      "metadata": {
        "id": "6xUZtXYVcrYo"
      },
      "source": [
        "g.bfs(start='S', end = 'G')"
      ],
      "execution_count": null,
      "outputs": []
    },
    {
      "cell_type": "markdown",
      "metadata": {
        "id": "HUxn7O32dw1Q"
      },
      "source": [
        "## Algoritmo 2: Busca em Profundidade:\n",
        "\n",
        "---\n",
        "\n"
      ]
    },
    {
      "cell_type": "code",
      "metadata": {
        "id": "SpeQu06efLdy",
        "colab": {
          "base_uri": "https://localhost:8080/",
          "height": 207
        },
        "outputId": "1f61b53d-9e52-4e39-c82b-e5f0869bc2eb"
      },
      "source": [
        "class GraphDFS(Graph):\n",
        "  def dfs(self, start='S', end='G'):\n",
        "    visited = []\n",
        "    fringe = [(start, 0, start)]  # (node, cost-to-node, path-to-node)\n",
        "\n",
        "    while len(fringe) > 0:\n",
        "      node = fringe.pop()  # alteração principal em relação ao BFS\n",
        "      visited.append(node[0])\n",
        "\n",
        "      # inserir elementos na fronteira sem ordem\n",
        "      for n, c in zip(self.neighbors[node[0]], self.cost[node[0]]):\n",
        "        if n not in visited:\n",
        "          fringe.append((n, c + node[1], node[2] + n))\n",
        "\n",
        "      print('visited:', node[0], '(', node[2], ') | fringe:', fringe)\n",
        "      if node[0] == end:\n",
        "        print('FIM: ', node[2], ' Cost:', node[1])\n",
        "        break\n",
        "\n",
        "# Adicionando os elementos ao grafo\n",
        "g = GraphDFS()\n",
        "\n",
        "g.add_edge('S', 'A', 2)\n",
        "g.add_edge('S', 'B', 1)\n",
        "g.add_edge('S', 'G', 9)\n",
        "g.add_edge('A', 'C', 2)\n",
        "g.add_edge('A', 'D', 3)\n",
        "g.add_edge('B', 'D', 2)\n",
        "g.add_edge('B', 'E', 4)\n",
        "g.add_edge('C', 'G', 4)\n",
        "g.add_edge('D', 'G', 4)\n",
        "\n",
        "g.show_graph()\n",
        "g.dfs()\n"
      ],
      "execution_count": 1,
      "outputs": [
        {
          "output_type": "error",
          "ename": "NameError",
          "evalue": "name 'Graph' is not defined",
          "traceback": [
            "\u001b[0;31m---------------------------------------------------------------------------\u001b[0m",
            "\u001b[0;31mNameError\u001b[0m                                 Traceback (most recent call last)",
            "\u001b[0;32m<ipython-input-1-ae6be1ca3064>\u001b[0m in \u001b[0;36m<cell line: 1>\u001b[0;34m()\u001b[0m\n\u001b[0;32m----> 1\u001b[0;31m \u001b[0;32mclass\u001b[0m \u001b[0mGraphDFS\u001b[0m\u001b[0;34m(\u001b[0m\u001b[0mGraph\u001b[0m\u001b[0;34m)\u001b[0m\u001b[0;34m:\u001b[0m\u001b[0;34m\u001b[0m\u001b[0;34m\u001b[0m\u001b[0m\n\u001b[0m\u001b[1;32m      2\u001b[0m   \u001b[0;32mdef\u001b[0m \u001b[0mdfs\u001b[0m\u001b[0;34m(\u001b[0m\u001b[0mself\u001b[0m\u001b[0;34m,\u001b[0m \u001b[0mstart\u001b[0m\u001b[0;34m=\u001b[0m\u001b[0;34m'S'\u001b[0m\u001b[0;34m,\u001b[0m \u001b[0mend\u001b[0m\u001b[0;34m=\u001b[0m\u001b[0;34m'G'\u001b[0m\u001b[0;34m)\u001b[0m\u001b[0;34m:\u001b[0m\u001b[0;34m\u001b[0m\u001b[0;34m\u001b[0m\u001b[0m\n\u001b[1;32m      3\u001b[0m     \u001b[0mvisited\u001b[0m \u001b[0;34m=\u001b[0m \u001b[0;34m[\u001b[0m\u001b[0;34m]\u001b[0m\u001b[0;34m\u001b[0m\u001b[0;34m\u001b[0m\u001b[0m\n\u001b[1;32m      4\u001b[0m     \u001b[0mfringe\u001b[0m \u001b[0;34m=\u001b[0m \u001b[0;34m[\u001b[0m\u001b[0;34m(\u001b[0m\u001b[0mstart\u001b[0m\u001b[0;34m,\u001b[0m \u001b[0;36m0\u001b[0m\u001b[0;34m,\u001b[0m \u001b[0mstart\u001b[0m\u001b[0;34m)\u001b[0m\u001b[0;34m]\u001b[0m  \u001b[0;31m# (node, cost-to-node, path-to-node)\u001b[0m\u001b[0;34m\u001b[0m\u001b[0;34m\u001b[0m\u001b[0m\n\u001b[1;32m      5\u001b[0m \u001b[0;34m\u001b[0m\u001b[0m\n",
            "\u001b[0;31mNameError\u001b[0m: name 'Graph' is not defined"
          ]
        }
      ]
    },
    {
      "cell_type": "markdown",
      "metadata": {
        "id": "ntger_QseMVy"
      },
      "source": [
        "## Algoritmo 3: Busca de Custo Uniforme"
      ]
    },
    {
      "cell_type": "code",
      "metadata": {
        "id": "qtDrboSZd9OK"
      },
      "source": [
        "class GraphUC(GraphBFS):\n",
        "  def uniformCost(self,  start='S', end = 'G'):\n",
        "\n",
        "    visited = []\n",
        "    fringe = [(start,0,start)] # (node, cost-to-node, path-to-node)\n",
        "\n",
        "    while len(fringe) > 0:\n",
        "\n",
        "      node = fringe[0]\n",
        "\n",
        "      fringe.remove(node)\n",
        "      visited.append(node[0])\n",
        "\n",
        "      for n,c in zip(self.neighbors[node[0]], self.cost[node[0]]):\n",
        "        if n not in visited:\n",
        "          fringe.append((n,c+node[1],node[2]+n))\n",
        "\n",
        "      ################\n",
        "      # sort fringe\n",
        "      fringe = sorted(fringe, key=lambda x: x[1])\n",
        "      ################\n",
        "\n",
        "      print('visited:' , node[0], '(', node[2], ') | fringe:', fringe)\n",
        "      if node[0] == end:\n",
        "        print('FIM: ', node[2], ' Cost:', node[1])\n",
        "        break\n",
        "\n",
        "\n",
        "g = GraphUC()\n",
        "g.add_edge('S', 'A', 2)\n",
        "g.add_edge('S', 'B', 1)\n",
        "g.add_edge('S', 'G', 9)\n",
        "g.add_edge('A', 'C', 2)\n",
        "g.add_edge('A', 'D', 3)\n",
        "g.add_edge('B', 'D', 2)\n",
        "g.add_edge('B', 'E', 4)\n",
        "g.add_edge('C', 'G', 4)\n",
        "g.add_edge('D', 'G', 4)\n",
        "\n",
        "g.uniformCost(start='S', end = 'G')"
      ],
      "execution_count": null,
      "outputs": []
    },
    {
      "cell_type": "markdown",
      "metadata": {
        "id": "14KcScstfRcc"
      },
      "source": [
        "# Exemplo 2: Malha aérea\n",
        "\n",
        "Considere o seguinte grafo representando uma malha aérea:\n"
      ]
    },
    {
      "cell_type": "code",
      "metadata": {
        "id": "M2wR1-WgCaxy"
      },
      "source": [
        "f = GraphUC()\n",
        "f.add_edge('Los Angeles', 'New Delhi', 200)\n",
        "f.add_edge('Los Angeles', 'Japan', 87)\n",
        "f.add_edge('Germany', 'New Delhi', 125)\n",
        "f.add_edge('Italy', 'Los Angeles', 150)\n",
        "f.add_edge('New Delhi', 'France', 100)\n",
        "f.add_edge('Los Angeles', 'France', 200)\n",
        "f.add_edge('Italy', 'New Delhi', 300)\n",
        "f.add_edge('France', 'Norway', 175)\n",
        "f.add_edge('Ireland', 'Chicago', 100)\n",
        "f.add_edge('Chicago', 'Italy', 135)\n",
        "f.add_edge('Los Angeles', 'Ireland', 100)\n",
        "f.add_edge('Ireland', 'New Delhi', 200)\n",
        "f.show_graph()"
      ],
      "execution_count": null,
      "outputs": []
    },
    {
      "cell_type": "markdown",
      "metadata": {
        "id": "4lMkJXaSfsf4"
      },
      "source": [
        "Executando BFS, DFS e CustoUniforme:"
      ]
    },
    {
      "cell_type": "code",
      "metadata": {
        "id": "3xaHCupuxz5Z"
      },
      "source": [
        "f.bfs(start='Los Angeles', end='Norway')\n",
        "print()\n",
        "f.uniformCost(start='Los Angeles', end='Norway')"
      ],
      "execution_count": null,
      "outputs": []
    },
    {
      "cell_type": "markdown",
      "source": [],
      "metadata": {
        "id": "Ax7rbQDXAV7y"
      }
    },
    {
      "cell_type": "code",
      "source": [],
      "metadata": {
        "id": "PKpGgzLeALXj"
      },
      "execution_count": null,
      "outputs": []
    }
  ]
}